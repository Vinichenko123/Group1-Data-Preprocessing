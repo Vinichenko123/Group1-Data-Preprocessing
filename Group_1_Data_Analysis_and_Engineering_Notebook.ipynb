{
  "nbformat": 4,
  "nbformat_minor": 0,
  "metadata": {
    "colab": {
      "provenance": [],
      "toc_visible": true,
      "include_colab_link": true
    },
    "kernelspec": {
      "name": "python3",
      "display_name": "Python 3"
    },
    "language_info": {
      "name": "python"
    }
  },
  "cells": [
    {
      "cell_type": "markdown",
      "metadata": {
        "id": "view-in-github",
        "colab_type": "text"
      },
      "source": [
        "<a href=\"https://colab.research.google.com/github/Vinichenko123/Group1-Data-Preprocessing/blob/main/Group_1_Data_Analysis_and_Engineering_Notebook.ipynb\" target=\"_parent\"><img src=\"https://colab.research.google.com/assets/colab-badge.svg\" alt=\"Open In Colab\"/></a>"
      ]
    },
    {
      "cell_type": "markdown",
      "source": [
        "Github link, you can use \"save copy in github\" in Files for commits\n",
        "If you just joined, I've sent you an invite to the github through the same email that you're using for google colab\n",
        "```\n",
        "https://github.com/Vinichenko123/Group1-Data-Preprocessing.git\n",
        "```\n",
        "\n"
      ],
      "metadata": {
        "id": "qFelvFxzNKS_"
      }
    }
  ]
}